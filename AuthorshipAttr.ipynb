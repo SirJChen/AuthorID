{
 "cells": [
  {
   "cell_type": "code",
   "execution_count": 9,
   "metadata": {
    "collapsed": true
   },
   "outputs": [],
   "source": [
    "import numpy as np\n",
    "import nltk\n",
    "import glob\n",
    "import os\n",
    "from sklearn.feature_extraction.text import CountVectorizer\n",
    "from sklearn.cluster import KMeans\n",
    "from scipy.cluster.vq import whiten\n",
    "sentence_tokenizer = nltk.data.load('tokenizers/punkt/english.pickle')\n",
    "word_tokenizer = nltk.tokenize.RegexpTokenizer(r'\\w+')\n",
    " \n"
   ]
  },
  {
   "cell_type": "code",
   "execution_count": null,
   "metadata": {
    "collapsed": true
   },
   "outputs": [],
   "source": [
    "# Load data\n",
    "data_folder = r\"C:\\Users\\Jesse\\Documents\\Data Science\\text-classification-master\\Texts\"\n",
    "files = sorted(glob.glob(os.path.join(data_folder, \"*.txt\")))\n",
    "chapters = []\n",
    "for fn in files:\n",
    "    with open(fn) as f:\n",
    "        chapters.append(f.read().replace('\\n', ' '))\n",
    "all_text = ' '.join(chapters)"
   ]
  },
  {
   "cell_type": "code",
   "execution_count": 10,
   "metadata": {
    "collapsed": true
   },
   "outputs": [],
   "source": [
    "with open('bramstoker.txt', 'r') as myfile:\n",
    "    data=myfile.read().replace('\\n', '')"
   ]
  },
  {
   "cell_type": "code",
   "execution_count": 11,
   "metadata": {
    "collapsed": false
   },
   "outputs": [],
   "source": [
    "tokens = nltk.word_tokenize(data.lower())\n",
    "words = word_tokenizer.tokenize(data.lower())\n",
    "sentences = sentence_tokenizer.tokenize(data)\n",
    "vocab = set(words)\n",
    "words_per_sentence = np.array([len(word_tokenizer.tokenize(s))\n",
    "                                for s in sentences])"
   ]
  },
  {
   "cell_type": "code",
   "execution_count": 12,
   "metadata": {
    "collapsed": false
   },
   "outputs": [],
   "source": [
    "e=0\n",
    "num_chapters = len(data)\n",
    "fvs_lexical = np.zeros((len(data), 3), np.float64)\n",
    "fvs_punct = np.zeros((len(data), 3), np.float64)\n",
    "\n",
    "# average number of words per sentence\n",
    "fvs_lexical[e, 0] = words_per_sentence.mean()\n",
    "# sentence length variation\n",
    "fvs_lexical[e, 1] = words_per_sentence.std()\n",
    "# Lexical diversity\n",
    "fvs_lexical[e, 2] = len(vocab) / float(len(words))\n",
    "\n",
    "# Commas per sentence\n",
    "fvs_punct[e, 0] = tokens.count(',') / float(len(sentences))\n",
    "# Semicolons per sentence\n",
    "fvs_punct[e, 1] = tokens.count(';') / float(len(sentences))\n",
    "# Colons per sentence\n",
    "fvs_punct[e, 2] = tokens.count(':') / float(len(sentences))\n",
    "\n",
    "# apply whitening to decorrelate the features\n",
    "fvs_lexical = whiten(fvs_lexical)\n",
    "fvs_punct = whiten(fvs_punct)"
   ]
  },
  {
   "cell_type": "code",
   "execution_count": 13,
   "metadata": {
    "collapsed": false
   },
   "outputs": [
    {
     "name": "stderr",
     "output_type": "stream",
     "text": [
      "C:\\Users\\Jesse\\Anaconda3\\lib\\site-packages\\ipykernel\\__main__.py:14: RuntimeWarning: invalid value encountered in true_divide\n"
     ]
    }
   ],
   "source": [
    "# get most common words in the whole book\n",
    "NUM_TOP_WORDS = 10\n",
    "all_tokens = nltk.word_tokenize(data)\n",
    "fdist = nltk.FreqDist(all_tokens)\n",
    "#vocab = fdist.keys()[:NUM_TOP_WORDS]\n",
    "vocab = fdist.most_common(NUM_TOP_WORDS)\n",
    " \n",
    "# use sklearn to create the bag for words feature vector for each chapter\n",
    "vectorizer = CountVectorizer(vocabulary=vocab, tokenizer=nltk.word_tokenize)\n",
    "data = [data]\n",
    "fvs_bow = vectorizer.fit_transform(data).toarray().astype(np.float64)\n",
    " \n",
    "# normalise by dividing each row by its Euclidean norm\n",
    "fvs_bow /= np.c_[np.apply_along_axis(np.linalg.norm, 1, fvs_bow)]"
   ]
  },
  {
   "cell_type": "code",
   "execution_count": null,
   "metadata": {
    "collapsed": false
   },
   "outputs": [],
   "source": [
    "tokens = nltk.word_tokenize(data)"
   ]
  },
  {
   "cell_type": "code",
   "execution_count": 16,
   "metadata": {
    "collapsed": false
   },
   "outputs": [
    {
     "data": {
      "text/plain": [
       "KMeans(algorithm='auto', copy_x=True, init='k-means++', max_iter=300,\n",
       "    n_clusters=2, n_init=10, n_jobs=1, precompute_distances='auto',\n",
       "    random_state=None, tol=0.0001, verbose=0)"
      ]
     },
     "execution_count": 16,
     "metadata": {},
     "output_type": "execute_result"
    }
   ],
   "source": [
    "km = KMeans(n_clusters=2, init='k-means++', n_init=10, verbose=0)\n",
    "km.fit(fvs_punct)"
   ]
  },
  {
   "cell_type": "code",
   "execution_count": 17,
   "metadata": {
    "collapsed": false
   },
   "outputs": [
    {
     "ename": "AttributeError",
     "evalue": "'KMeans' object has no attribute 'results'",
     "output_type": "error",
     "traceback": [
      "\u001b[0;31m---------------------------------------------------------------------------\u001b[0m",
      "\u001b[0;31mAttributeError\u001b[0m                            Traceback (most recent call last)",
      "\u001b[0;32m<ipython-input-17-3cf84bb92218>\u001b[0m in \u001b[0;36m<module>\u001b[0;34m()\u001b[0m\n\u001b[0;32m----> 1\u001b[0;31m \u001b[0mprint\u001b[0m\u001b[1;33m(\u001b[0m\u001b[0mkm\u001b[0m\u001b[1;33m.\u001b[0m\u001b[0mresults\u001b[0m\u001b[1;33m)\u001b[0m\u001b[1;33m\u001b[0m\u001b[0m\n\u001b[0m",
      "\u001b[0;31mAttributeError\u001b[0m: 'KMeans' object has no attribute 'results'"
     ]
    }
   ],
   "source": [
    "print(km.results)"
   ]
  }
 ],
 "metadata": {
  "anaconda-cloud": {},
  "kernelspec": {
   "display_name": "Python [conda root]",
   "language": "python",
   "name": "conda-root-py"
  },
  "language_info": {
   "codemirror_mode": {
    "name": "ipython",
    "version": 3
   },
   "file_extension": ".py",
   "mimetype": "text/x-python",
   "name": "python",
   "nbconvert_exporter": "python",
   "pygments_lexer": "ipython3",
   "version": "3.5.4"
  }
 },
 "nbformat": 4,
 "nbformat_minor": 1
}
